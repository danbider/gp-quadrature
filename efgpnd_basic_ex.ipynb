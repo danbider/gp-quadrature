{
 "cells": [
  {
   "cell_type": "code",
   "execution_count": 13,
   "metadata": {},
   "outputs": [],
   "source": [
    "import torch\n",
    "import numpy as np\n",
    "import matplotlib.pyplot as plt\n",
    "import time\n",
    "# from kernels.squared_exponential import SquaredExponential\n",
    "# from kernels.matern import Matern\n",
    "from torch.optim import Adam\n",
    "\n",
    "# import sys\n",
    "import math\n",
    "# sys.path.append('/Users/colecitrenbaum/Documents/GPs/gp-quadrature/Tests and Sanity Checks/')\n",
    "from efgpnd import EFGPND\n",
    "import warnings\n",
    "# warnings.filterwarnings(\"ignore\", message=\".*disabling cuda.*\")\n"
   ]
  },
  {
   "cell_type": "markdown",
   "metadata": {},
   "source": [
    "# Generating some synthetic data"
   ]
  },
  {
   "cell_type": "code",
   "execution_count": 14,
   "metadata": {},
   "outputs": [
    {
     "name": "stdout",
     "output_type": "stream",
     "text": [
      "Using device: cpu\n"
     ]
    }
   ],
   "source": [
    "\n",
    "\n",
    "# --- Parameters ---\n",
    "n = 500  # Number of points\n",
    "d = 2  # Dimensionality of the input space\n",
    "true_length_scale =0.1\n",
    "true_variance = 1\n",
    "true_noise_variance = 0.2\n",
    "dtype = torch.float64  # Use float64 as in the original example\n",
    "device = torch.device(\"cuda\" if torch.cuda.is_available() else \"cpu\")  # Use GPU if available\n",
    "print(f\"Using device: {device}\")\n",
    "\n",
    "# --- Generate Input Points ---\n",
    "# Generate random points in d-dimensional space from -1 to 1\n",
    "x = torch.rand(n, d, dtype=dtype, device=device) * 2 - 1\n",
    "\n",
    "kernel_type = \"SquaredExponential\"\n"
   ]
  },
  {
   "cell_type": "code",
   "execution_count": 15,
   "metadata": {},
   "outputs": [],
   "source": [
    "# Generate test points (grid of points for visualization if d <= 3)\n",
    "if d >= 2:\n",
    "    # Create a grid of points for testing\n",
    "    grid_points_per_dim = 20\n",
    "    grid_points = [torch.linspace(x.min()-0.1, 0.1+x.max(), grid_points_per_dim, dtype=dtype, device=device) for _ in range(d)]\n",
    "    mesh_grid = torch.meshgrid(*grid_points, indexing='ij')\n",
    "    x_new = torch.stack([grid.flatten() for grid in mesh_grid], dim=1)\n",
    "elif d==1:\n",
    "    grid_points_per_dim = 3000\n",
    "    grid_points = [torch.linspace(x.min()-0.1, 0.1+x.max(), grid_points_per_dim, dtype=dtype, device=device) for _ in range(d)]\n",
    "    mesh_grid = torch.meshgrid(*grid_points, indexing='ij')\n",
    "    x_new = torch.stack([grid.flatten() for grid in mesh_grid], dim=1)\n",
    "else:\n",
    "    # For higher dimensions, just use random test points\n",
    "    x_new = torch.rand(1000, d, dtype=dtype, device=device) * 2.4 - 1.2"
   ]
  },
  {
   "cell_type": "code",
   "execution_count": 16,
   "metadata": {},
   "outputs": [],
   "source": [
    "from vanilla_gp_sampling import sample_gp_fast, sample_gp_matern\n",
    "\n",
    "# # For squared exponential kernel\n",
    "if kernel_type == \"SquaredExponential\":\n",
    "    samples = sample_gp_fast(\n",
    "        x,\n",
    "        length_scale=true_length_scale,\n",
    "        variance=true_variance,\n",
    "        noise_variance=true_noise_variance\n",
    "    )\n",
    "\n",
    "elif kernel_type == \"Matern32\":\n",
    "    samples = sample_gp_matern(\n",
    "        x,\n",
    "        nu=1.5,  # 3/2 Matern\n",
    "        length_scale=true_length_scale,\n",
    "        variance=true_variance,\n",
    "        noise_variance=true_noise_variance\n",
    "    )\n",
    "y= samples\n",
    "# y = samples_se\n"
   ]
  },
  {
   "cell_type": "markdown",
   "metadata": {},
   "source": [
    "# Using EFGPND "
   ]
  },
  {
   "cell_type": "code",
   "execution_count": 17,
   "metadata": {},
   "outputs": [],
   "source": [
    "d= 2 \n",
    "EPSILON = 1e-4 # bound on kernel error \n",
    "cg_tol = EPSILON "
   ]
  },
  {
   "cell_type": "markdown",
   "metadata": {},
   "source": [
    "## Hyperparameter learning\n",
    "    Note that compute_gradients by default puts the grads in model._gp_params.hyper.rawgrad so that optimizer can use them."
   ]
  },
  {
   "cell_type": "code",
   "execution_count": 18,
   "metadata": {},
   "outputs": [],
   "source": [
    "# max_iters = 50\n",
    "# J = 10\n",
    "# from torch.optim import Adam\n",
    "\n",
    "\n",
    "# # Create history dictionary to track parameters\n",
    "# history = {\n",
    "#     'lengthscale': [],\n",
    "#     'variance': [],\n",
    "#     'sigmasq': [],\n",
    "#     'log_marginal_likelihood': []\n",
    "# }\n",
    "\n",
    "\n",
    "\n",
    "# ## hyper learning with Adam\n",
    "# # note that compute_gradients() saves grads in model._gp_params so that we can step \n",
    "# # also, I hooked optimizer.step() to sync_parameters() so that the kernel is updated after each step\n",
    "# # so that compute gradients is always called with the latest kernel hyperparameters\n",
    "# model = EFGPND(x, y, \"SquaredExponential\", eps= EPSILON)\n",
    "# optimizer = Adam(model.parameters(), lr=0.1)\n",
    "# for it in range(max_iters):\n",
    "#     optimizer.zero_grad()\n",
    "#     if it % 10 == 0:\n",
    "#         model.compute_gradients(\n",
    "#                 trace_samples=J,\n",
    "#                 # compute_log_marginal=True\n",
    "#             )\n",
    "#     else:\n",
    "#         model.compute_gradients(\n",
    "#                 trace_samples=J,\n",
    "#             )\n",
    "\n",
    "#     optimizer.step() \n",
    "\n",
    "#     #### Record history of parameters\n",
    "#     lengthscale = model.kernel.get_hyper('lengthscale')\n",
    "#     variance = model.kernel.get_hyper('variance')\n",
    "#     sigmasq = model._gp_params.sig2.item()\n",
    "    \n",
    "#     history['lengthscale'].append(lengthscale)\n",
    "#     history['variance'].append(variance)\n",
    "#     history['sigmasq'].append(sigmasq)\n",
    "#     history['log_marginal_likelihood'].append(log_marginal_likelihood.item())\n",
    "    \n",
    "#     if it % 10 == 0:\n",
    "#         print(f\"[ε={EPSILON} | J={J}] iter {it:>3}  \"\n",
    "#             f\"ℓ={lengthscale:.4g}  \"\n",
    "#             f\"σ_f²={variance:.4g}  σ_n²={sigmasq:.4g}\")\n",
    "#         print(f\"log marginal likelihood: {log_marginal_likelihood:.4g}\")\n",
    "\n",
    "# print(f'Final hyperparams: ℓ={lengthscale:.4g}, σ_f²={variance:.4g}, σ_n²={sigmasq:.4g}')\n",
    "\n",
    "# lengthscale_history = history['lengthscale']\n",
    "# variance_history = history['variance']\n",
    "# sigmasq_history = history['sigmasq']"
   ]
  },
  {
   "cell_type": "code",
   "execution_count": 19,
   "metadata": {},
   "outputs": [
    {
     "name": "stdout",
     "output_type": "stream",
     "text": [
      "[ε=0.0001 | J=10] iter   0  ℓ=0.4634  σ_f²=1.239  σ_n²=0.2478\n",
      "[ε=0.0001 | J=10] iter  10  ℓ=0.1762  σ_f²=3.031  σ_n²=0.5301\n",
      "[ε=0.0001 | J=10] iter  20  ℓ=0.1216  σ_f²=1.945  σ_n²=0.5581\n",
      "[ε=0.0001 | J=10] iter  30  ℓ=0.1264  σ_f²=0.839  σ_n²=0.4079\n",
      "[ε=0.0001 | J=10] iter  40  ℓ=0.1126  σ_f²=0.6922  σ_n²=0.2854\n",
      "Final hyperparams: ℓ=0.09712, σ_f²=0.8648, σ_n²=0.2215\n"
     ]
    }
   ],
   "source": [
    "max_iters = 50\n",
    "J = 10\n",
    "\n",
    "# Initialize training log\n",
    "training_log = {\n",
    "    'iter': [],\n",
    "    'lengthscale': [],\n",
    "    'variance': [],\n",
    "    'sigmasq': [],\n",
    "}\n",
    "\n",
    "model = EFGPND(x, y, kernel=kernel_type, eps=EPSILON)\n",
    "optimizer = Adam(model.parameters(), lr=0.1)\n",
    "\n",
    "for it in range(max_iters):\n",
    "    optimizer.zero_grad()\n",
    "    if it > max_iters*0.8:\n",
    "        model.compute_gradients(trace_samples=10)\n",
    "    else:\n",
    "        model.compute_gradients(trace_samples=5,cg_tol = 1e-3)\n",
    "    optimizer.step() \n",
    "\n",
    "\n",
    "\n",
    "    # Record current hyperparameters in the log\n",
    "    lengthscale = model.kernel.get_hyper('lengthscale')\n",
    "    variance = model.kernel.get_hyper('variance')\n",
    "    sigmasq = model._gp_params.sig2.item()\n",
    "    training_log['iter'].append(it)\n",
    "    training_log['lengthscale'].append(lengthscale)\n",
    "    training_log['variance'].append(variance)\n",
    "    training_log['sigmasq'].append(sigmasq)\n",
    "\n",
    "    if it % 10 == 0:\n",
    "        print(f\"[ε={EPSILON} | J={J}] iter {it:>3}  \"\n",
    "              f\"ℓ={lengthscale:.4g}  \"\n",
    "              f\"σ_f²={variance:.4g}  σ_n²={sigmasq:.4g}\")\n",
    "\n",
    "print(f'Final hyperparams: ℓ={lengthscale:.4g}, σ_f²={variance:.4g}, σ_n²={sigmasq:.4g}')\n"
   ]
  },
  {
   "cell_type": "code",
   "execution_count": 20,
   "metadata": {},
   "outputs": [
    {
     "name": "stdout",
     "output_type": "stream",
     "text": [
      "Learned kernel: 0.954**2 * RBF(length_scale=0.0999) + WhiteKernel(noise_level=0.182)\n",
      "Kernel hyperparameters: {'k1': 0.954**2 * RBF(length_scale=0.0999), 'k2': WhiteKernel(noise_level=0.182), 'k1__k1': 0.954**2, 'k1__k2': RBF(length_scale=0.0999), 'k1__k1__constant_value': np.float64(0.9095037361915737), 'k1__k1__constant_value_bounds': (0.001, 1000.0), 'k1__k2__length_scale': np.float64(0.09987276798929287), 'k1__k2__length_scale_bounds': (0.01, 100.0), 'k2__noise_level': np.float64(0.18178221758348526), 'k2__noise_level_bounds': (1e-05, 10.0)}\n",
      "Learned variance (signal variance): 0.9095037361915737\n",
      "Learned length scale: 0.09987276798929287\n",
      "Learned noise variance: 0.18178221758348526\n"
     ]
    }
   ],
   "source": [
    "if n<5000:\n",
    "    from sklearn.gaussian_process import GaussianProcessRegressor\n",
    "    from sklearn.gaussian_process.kernels import Matern,RBF,WhiteKernel, ConstantKernel\n",
    "\n",
    "    # Assume x, y are already defined as numpy arrays of shape (n_samples, n_features) and (n_samples,)\n",
    "    # Use Matern 3/2 kernel with automatic hyperparameter optimization, including noise variance\n",
    "    if kernel_type == \"Matern32\":\n",
    "        kernel = ConstantKernel(1.0, (1e-3, 1e3)) * Matern(length_scale_bounds=(1e-2, 1e2), nu=1.5) + WhiteKernel(noise_level_bounds=(1e-5, 1e1))\n",
    "    else:\n",
    "        kernel = ConstantKernel(1.0, (1e-3, 1e3)) * RBF(length_scale_bounds=(1e-2, 1e2)) + WhiteKernel(noise_level_bounds=(1e-5, 1e1))\n",
    "\n",
    "    gp = GaussianProcessRegressor(kernel=kernel, n_restarts_optimizer=10, normalize_y=False)\n",
    "    gp.fit(x, y)\n",
    "\n",
    "    print(\"Learned kernel:\", gp.kernel_)\n",
    "    print(\"Kernel hyperparameters:\", gp.kernel_.get_params())\n",
    "    # Extract the learned variance (signal variance), length scale, and noise variance from the fitted kernel\n",
    "    # For the kernel: ConstantKernel * Matern + WhiteKernel\n",
    "    # The signal variance is the value of the ConstantKernel, the length scale is from the Matern kernel,\n",
    "    # and the noise variance is from the WhiteKernel\n",
    "\n",
    "    learned_kernel = gp.kernel_\n",
    "\n",
    "    # Extract variance (ConstantKernel's constant_value), length scale, and noise variance\n",
    "    if hasattr(learned_kernel, 'k1') and hasattr(learned_kernel.k1, 'k1'):\n",
    "        scikit_variance = learned_kernel.k1.k1.constant_value\n",
    "        scikit_length_scale = learned_kernel.k1.k2.length_scale\n",
    "        scikit_noise_variance = learned_kernel.k2.noise_level\n",
    "    else:\n",
    "        # fallback for other kernel structures\n",
    "        scikit_variance = learned_kernel.k1.constant_value\n",
    "        scikit_length_scale = learned_kernel.k2.length_scale\n",
    "        scikit_noise_variance = learned_kernel.k2.noise_level\n",
    "\n",
    "    print(\"Learned variance (signal variance):\", float(scikit_variance))\n",
    "    print(\"Learned length scale:\", float(scikit_length_scale))\n",
    "    print(\"Learned noise variance:\", float(scikit_noise_variance))\n"
   ]
  },
  {
   "cell_type": "code",
   "execution_count": 21,
   "metadata": {},
   "outputs": [
    {
     "data": {
      "image/png": "[encoded data removed]",
      "text/plain": [
       "<Figure size 700x500 with 1 Axes>"
      ]
     },
     "metadata": {},
     "output_type": "display_data"
    }
   ],
   "source": [
    "import matplotlib.pyplot as plt\n",
    "import numpy as np\n",
    "\n",
    "# Assume you have lists or arrays of the training log for lengthscale and variance\n",
    "# For example, if you logged them as lists during training:\n",
    "# lengthscale_log = [...]\n",
    "# variance_log = [...]\n",
    "\n",
    "# If you don't have them, but have only the final values, you can just plot the final point.\n",
    "# Here, we assume lengthscale_log and variance_log exist and are in order of optimization steps.\n",
    "\n",
    "# Convert to numpy arrays for plotting\n",
    "lengthscale_log = training_log['lengthscale']\n",
    "variance_log = training_log['variance']\n",
    "\n",
    "plt.figure(figsize=(7, 5))\n",
    "plt.plot(lengthscale_log, variance_log, marker='o', label='Training Path', color='C0')\n",
    "plt.scatter(lengthscale_log[0], variance_log[0], color='green', s=80, label='Start', zorder=5)\n",
    "plt.scatter(lengthscale_log[-1], variance_log[-1], color='blue', s=80, label='End', zorder=5)\n",
    "\n",
    "# Plot scikit-learn learned values\n",
    "plt.scatter([scikit_length_scale], [scikit_variance], color='red', s=100, marker='*', label='scikit-learn', zorder=10)\n",
    "\n",
    "plt.xlabel('Length scale (ℓ)')\n",
    "plt.ylabel('Variance (σ_f²)')\n",
    "plt.title('Training Log Path vs scikit-learn')\n",
    "plt.legend()\n",
    "plt.grid(True)\n",
    "plt.tight_layout()\n",
    "plt.show()\n"
   ]
  },
  {
   "cell_type": "markdown",
   "metadata": {},
   "source": [
    "## Fitting posterior mean"
   ]
  },
  {
   "cell_type": "code",
   "execution_count": 22,
   "metadata": {},
   "outputs": [
    {
     "name": "stdout",
     "output_type": "stream",
     "text": [
      "Time without variance: 0.0400 seconds; x_new.shape = torch.Size([400, 2])\n"
     ]
    }
   ],
   "source": [
    "# Time different variance estimation methods\n",
    "import time\n",
    "\n",
    "# No variance\n",
    "start_time = time.time()\n",
    "mean_no_var, _= model.predict(x_new, return_variance=False)\n",
    "no_var_time = time.time() - start_time\n",
    "print(f\"Time without variance: {no_var_time:.4f} seconds; x_new.shape = {x_new.shape}\")\n"
   ]
  },
  {
   "cell_type": "markdown",
   "metadata": {},
   "source": [
    "## Posterior variance -- Stochastic Estimate"
   ]
  },
  {
   "cell_type": "code",
   "execution_count": 23,
   "metadata": {},
   "outputs": [
    {
     "name": "stdout",
     "output_type": "stream",
     "text": [
      "Time with stochastic variance, x_new.shape = torch.Size([400, 2]), 100 probes: 0.8683 seconds\n"
     ]
    }
   ],
   "source": [
    "start_time = time.time()\n",
    "hutchinson_probes = 100\n",
    "mean, stoch_var = model.predict(x_new, return_variance=True, variance_method=\"stochastic\", hutchinson_probes=hutchinson_probes)\n",
    "stoch_var_time = time.time() - start_time\n",
    "print(f\"Time with stochastic variance, x_new.shape = {x_new.shape}, {hutchinson_probes} probes: {stoch_var_time:.4f} seconds\")\n",
    "\n",
    "\n"
   ]
  },
  {
   "cell_type": "markdown",
   "metadata": {},
   "source": [
    "## Posterior variance -- regular method"
   ]
  },
  {
   "cell_type": "code",
   "execution_count": 24,
   "metadata": {},
   "outputs": [
    {
     "name": "stdout",
     "output_type": "stream",
     "text": [
      "Time with regular variance, x_new.shape = torch.Size([400, 2]): 3.1740 seconds\n"
     ]
    }
   ],
   "source": [
    "# Regular variance\n",
    "start_time = time.time()\n",
    "mean, var = model.predict(x_new, return_variance=True, variance_method=\"regular\")\n",
    "reg_var_time = time.time() - start_time\n",
    "print(f\"Time with regular variance, x_new.shape = {x_new.shape}: {reg_var_time:.4f} seconds\")"
   ]
  },
  {
   "cell_type": "markdown",
   "metadata": {},
   "source": [
    "Maybe update idea- Context variables instead of all the opts \n",
    "- with .... settings = exact... "
   ]
  }
 ],
 "metadata": {
  "kernelspec": {
   "display_name": "myenv",
   "language": "python",
   "name": "python3"
  },
  "language_info": {
   "codemirror_mode": {
    "name": "ipython",
    "version": 3
   },
   "file_extension": ".py",
   "mimetype": "text/x-python",
   "name": "python",
   "nbconvert_exporter": "python",
   "pygments_lexer": "ipython3",
   "version": "3.13.0"
  }
 },
 "nbformat": 4,
 "nbformat_minor": 2
}
