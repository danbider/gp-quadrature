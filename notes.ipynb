{
 "cells": [
  {
   "cell_type": "markdown",
   "metadata": {
    "vscode": {
     "languageId": "plaintext"
    }
   },
   "source": [
    "# Some GPT summaries here for constant reference \n",
    "# Summary of Key Tensor Shapes\n",
    "\n",
    "## Matrix Dimensions\n",
    "- $\\mathbf{F} \\in \\mathbb{C}^{N \\times m_{\\text{tot}}^d}$ (Fourier matrix)\n",
    "- $\\mathbf{D} \\in \\mathbb{C}^{m_{\\text{tot}}^d \\times m_{\\text{tot}}^d}$ (Diagonal w spectral densities of $\\xi_j$)\n",
    "- $\\mathbf{w}_s \\in \\mathbb{C}^{m_{\\text{tot}}^d}$ (Spectral weights vector)\n",
    "- $\\mathbf{x} \\in \\mathbb{R}^{N \\times d}$ (Input coordinates)\n",
    "- $\\boldsymbol{\\xi}_j \\in \\mathbb{R}^d$ (Frequency vectors)\n",
    "\n",
    "## Matrix Forms\n",
    "\n",
    "Fourier matrix $\\mathbf{F}$:\n",
    "$$\\mathbf{F} = \\begin{pmatrix}\n",
    "e^{2\\pi i \\boldsymbol{\\xi}_1 \\cdot \\mathbf{x}_1} & e^{2\\pi i \\boldsymbol{\\xi}_2 \\cdot \\mathbf{x}_1} & \\cdots & e^{2\\pi i \\boldsymbol{\\xi}_{m_{\\text{tot}}^d} \\cdot \\mathbf{x}_1} \\\\\n",
    "e^{2\\pi i \\boldsymbol{\\xi}_1 \\cdot \\mathbf{x}_2} & e^{2\\pi i \\boldsymbol{\\xi}_2 \\cdot \\mathbf{x}_2} & \\cdots & e^{2\\pi i \\boldsymbol{\\xi}_{m_{\\text{tot}}^d} \\cdot \\mathbf{x}_2} \\\\\n",
    "\\vdots & \\vdots & \\ddots & \\vdots \\\\\n",
    "e^{2\\pi i \\boldsymbol{\\xi}_1 \\cdot \\mathbf{x}_N} & e^{2\\pi i \\boldsymbol{\\xi}_2 \\cdot \\mathbf{x}_N} & \\cdots & e^{2\\pi i \\boldsymbol{\\xi}_{m_{\\text{tot}}^d} \\cdot \\mathbf{x}_N}\n",
    "\\end{pmatrix}$$\n",
    "\n",
    "Diagonal matrix $\\mathbf{D}$:\n",
    "$$\\mathbf{D} = \\begin{pmatrix}\n",
    "D_{11} & 0 & \\cdots & 0 \\\\\n",
    "0 & D_{22} & \\cdots & 0 \\\\\n",
    "\\vdots & \\vdots & \\ddots & \\vdots \\\\\n",
    "0 & 0 & \\cdots & D_{m_{\\text{tot}}^d,m_{\\text{tot}}^d}\n",
    "\\end{pmatrix}$$\n",
    "\n",
    "Where $D_{ll} = \\sqrt{h^d \\hat{k}(\\boldsymbol{\\xi}_l)}$ with $\\hat{k}(\\boldsymbol{\\xi}_l)$ being the spectral density of the GP kernel at frequency $\\boldsymbol{\\xi}_l$.\n"
   ]
  },
  {
   "cell_type": "markdown",
   "metadata": {},
   "source": [
    "# NUFFT\n",
    "## Non-Uniform Fast Fourier Transform (NUFFT) Operations\n",
    "\n",
    "The NUFFT allows us to efficiently compute matrix-vector products with the Fourier matrix $\\mathbf{F}$ and its adjoint $\\mathbf{F}^*$ without explicitly forming these matrices.\n",
    "\n",
    "### Forward NUFFT: $\\mathbf{F}\\boldsymbol{\\beta}$\n",
    "\n",
    "For a vector $\\boldsymbol{\\beta} \\in \\mathbb{C}^{m_{\\text{tot}}^d}$, the forward NUFFT computes:\n",
    "\n",
    "$$(\\mathbf{F}\\boldsymbol{\\beta})_i = \\sum_{j=1}^{m_{\\text{tot}}^d} e^{2\\pi i \\boldsymbol{\\xi}_j \\cdot \\mathbf{x}_i} \\beta_j$$\n",
    "\n",
    "### Adjoint NUFFT: $\\mathbf{F}^*\\boldsymbol{\\alpha}$\n",
    "\n",
    "For a vector $\\boldsymbol{\\alpha} \\in \\mathbb{C}^N$, the adjoint NUFFT computes:\n",
    "\n",
    "$$(\\mathbf{F}^*\\boldsymbol{\\alpha})_j = \\sum_{i=1}^{N} e^{-2\\pi i \\boldsymbol{\\xi}_j \\cdot \\mathbf{x}_i} \\alpha_i$$"
   ]
  }
 ],
 "metadata": {
  "language_info": {
   "name": "python"
  }
 },
 "nbformat": 4,
 "nbformat_minor": 2
}
