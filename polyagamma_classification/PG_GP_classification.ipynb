{
 "cells": [
  {
   "cell_type": "code",
   "execution_count": 32,
   "metadata": {},
   "outputs": [],
   "source": [
    "import sys\n",
    "# add path to gp-quadrature\n",
    "sys.path.append('/Users/colecitrenbaum/Documents/GPs/gp-quadrature')\n",
    "sys.path.append('/Users/colecitrenbaum/Documents/GPs/gp-quadrature/kernels')\n",
    "from kernels import SquaredExponential\n",
    "from vanilla_gp_sampling import sample_bernoulli_gp\n",
    "from efgpnd import ToeplitzND, compute_convolution_vector_vectorized_dD\n",
    "\n",
    "import torch\n",
    "from efgpnd import NUFFT\n",
    "from cg import ConjugateGradients\n",
    "from torch import vmap\n"
   ]
  },
  {
   "cell_type": "code",
   "execution_count": 33,
   "metadata": {},
   "outputs": [
    {
     "name": "stdout",
     "output_type": "stream",
     "text": [
      "Using device: cpu\n",
      "Cholesky succeeded after adding jitter.\n"
     ]
    }
   ],
   "source": [
    "#default to float64\n",
    "torch.set_default_dtype(torch.float64)\n",
    "\n",
    "# --- Parameters ---\n",
    "n = 2_000  # Number of points\n",
    "d = 1  # Dimensionality of the input space\n",
    "true_length_scale =0.2\n",
    "true_variance = 1\n",
    "dtype = torch.float64  # Use float64 as in the original example\n",
    "device = torch.device(\"cuda\" if torch.cuda.is_available() else \"cpu\")  # Use GPU if available\n",
    "print(f\"Using device: {device}\")\n",
    "\n",
    "# --- Generate Input Points ---\n",
    "# Generate random points in d-dimensional space from -1 to 1\n",
    "x = torch.rand(n, d, dtype=dtype, device=device) * 2 - 1\n",
    "y,f = sample_bernoulli_gp(x,length_scale=true_length_scale,variance=true_variance)\n",
    "rdtype = torch.float64\n",
    "cdtype = torch.complex128\n"
   ]
  },
  {
   "cell_type": "code",
   "execution_count": 34,
   "metadata": {},
   "outputs": [],
   "source": [
    "# # --- Parameters ---\n",
    "# n = 40_000  # Number of points\n",
    "# d = 2  # Dimensionality of the input space\n",
    "# dtype = torch.float64  # Use float64 for numerical stability\n",
    "# device = torch.device(\"cuda\" if torch.cuda.is_available() else \"cpu\")\n",
    "# true_noise_variance = 0.2\n",
    "# # --- Generate Input Points ---\n",
    "# # Generate random points in d-dimensional space from -1 to 1\n",
    "# x = torch.rand(n, d, dtype=dtype, device=device) * 2 - 1\n",
    "# x = x.to(device, dtype)\n",
    "# # --- Define the true function ---\n",
    "# def true_function(x):\n",
    "#     \"\"\"\n",
    "#     A 2D function to generate synthetic data\n",
    "#     x: tensor of shape [n, 2]\n",
    "#     \"\"\"\n",
    "#     # Example of a non-linear function with some interesting features\n",
    "#     return torch.sin(3 * x[:, 0]) * torch.cos(4 * x[:, 1]) + \\\n",
    "#            0.5 * torch.exp(-((x[:, 0] - 0.3)**2 + (x[:, 1] + 0.3)**2) / 0.3) + \\\n",
    "#            0.7 * torch.sin(2 * torch.pi * (x[:, 0]**2 + x[:, 1]**2))\n",
    "\n",
    "# # --- Generate target values with noise ---\n",
    "# # Compute true function values\n",
    "# f = true_function(x)\n",
    "\n",
    "# y = torch.bernoulli(torch.sigmoid(f)).to(device, dtype)\n",
    "\n",
    "# print(f\"Generated {n} points with shape {x.shape}\")\n",
    "# print(f\"Using device: {device}\")\n",
    "\n"
   ]
  },
  {
   "cell_type": "code",
   "execution_count": 35,
   "metadata": {},
   "outputs": [],
   "source": [
    "import torch\n",
    "import torch.nn as nn\n",
    "from typing import List, Iterator, Tuple, Optional, Union\n",
    "from torch.optim import Adam\n",
    "from utils.kernels import get_xis\n",
    "import math\n",
    "\n",
    "class qVariationalParams(nn.Module): # inherits from nn.Module\n",
    "    def __init__(self):\n",
    "        \"\"\"\n",
    "\n",
    "        \"\"\"\n",
    "        super().__init__()\n",
    "        self.Delta = nn.Parameter(torch.full((n,), 1e-3, dtype=torch.float64))"
   ]
  },
  {
   "cell_type": "code",
   "execution_count": 36,
   "metadata": {},
   "outputs": [],
   "source": [
    "q = qVariationalParams()\n",
    "kernel = SquaredExponential(dimension = d,init_lengthscale=0.5*true_length_scale,init_variance=2*true_variance)\n",
    "eps = 1e-3\n",
    "\n",
    "\n",
    "dtype = x.dtype\n",
    "rdtype = dtype \n",
    "x       = x.to(device, dtype)\n",
    "y       = y.to(device, dtype)\n",
    "if x.ndim == 1:\n",
    "    x = x.unsqueeze(-1)\n",
    "x0 = x.min(dim=0).values  \n",
    "x1 = x.max(dim=0).values  \n",
    "\n",
    "if x.ndim == 1:\n",
    "    x = x.unsqueeze(-1)\n",
    "d = x.shape[1]\n",
    "domain_lengths = x1 - x0\n",
    "L = domain_lengths.max()\n",
    "N = x.shape[0]\n",
    "xis_1d, h, mtot = get_xis(kernel_obj=kernel, eps=eps, L=L, use_integral=True, l2scaled=False)\n",
    "grids = torch.meshgrid(*(xis_1d for _ in range(d)), indexing='ij') # makes tensor product Jm \n",
    "xis = torch.stack(grids, dim=-1).view(-1, d) \n",
    "ws2 = kernel.spectral_density(xis).to(dtype=cdtype) * h**d\n",
    "ws = torch.sqrt(ws2) # (mtot**d,1)\n",
    "\n",
    "\n",
    "# x = x.to(device, rdtype)\n",
    "# y = y.to(device, rdtype)\n"
   ]
  },
  {
   "cell_type": "code",
   "execution_count": 37,
   "metadata": {},
   "outputs": [
    {
     "data": {
      "text/plain": [
       "tensor([0.0094+0.j, 0.0155+0.j, 0.0247+0.j, 0.0380+0.j, 0.0566+0.j, 0.0814+0.j, 0.1130+0.j,\n",
       "        0.1516+0.j, 0.1964+0.j, 0.2459+0.j, 0.2973+0.j, 0.3474+0.j, 0.3920+0.j, 0.4274+0.j,\n",
       "        0.4502+0.j, 0.4580+0.j, 0.4502+0.j, 0.4274+0.j, 0.3920+0.j, 0.3474+0.j, 0.2973+0.j,\n",
       "        0.2459+0.j, 0.1964+0.j, 0.1516+0.j, 0.1130+0.j, 0.0814+0.j, 0.0566+0.j, 0.0380+0.j,\n",
       "        0.0247+0.j, 0.0155+0.j, 0.0094+0.j])"
      ]
     },
     "execution_count": 37,
     "metadata": {},
     "output_type": "execute_result"
    }
   ],
   "source": [
    "ws"
   ]
  },
  {
   "cell_type": "code",
   "execution_count": 38,
   "metadata": {},
   "outputs": [],
   "source": [
    "def naive_kernel(x,xis):\n",
    "    F_train = torch.exp(2 * math.pi * 1j * torch.matmul(x, xis.T)).to(cdtype)\n",
    "    return F_train\n",
    "F_train = naive_kernel(x,xis)\n",
    "W_F_train_star = ws.unsqueeze(1) * F_train.conj().T\n",
    "K_train = (F_train * ws) @ W_F_train_star\n",
    "\n",
    "# import torch, math\n",
    "\n",
    "# def vanilla_e_step(K_train, y, q, \n",
    "#                    rho0=0.7, gamma=1e-3, \n",
    "#                    tol=1e-6, max_iters=20, \n",
    "#                    jitter=1e-6, verbose=True):\n",
    "#     \"\"\"\n",
    "#     Runs the vanilla E-step for the Polya-Gamma GP classification variational update.\n",
    "\n",
    "#     Args:\n",
    "#         K_train: (n x n) kernel matrix\n",
    "#         y: (n,) binary labels (0/1)\n",
    "#         q: variational parameter object with attribute Delta (n,)\n",
    "#         rho0: initial step size for hybrid update\n",
    "#         gamma: step size decay\n",
    "#         tol: tolerance for convergence\n",
    "#         max_iters: maximum number of iterations\n",
    "#         jitter: diagonal jitter for numerical stability\n",
    "#         verbose: print progress\n",
    "\n",
    "#     Returns:\n",
    "#         m: posterior mean (n,)\n",
    "#         v: posterior variance (n,)\n",
    "#         acc: predictive accuracy (analytic approximation)\n",
    "#     \"\"\"\n",
    "#     n = y.size(0)\n",
    "#     I = torch.eye(n, device=y.device, dtype=y.dtype)\n",
    "#     L_K = torch.linalg.cholesky(K_train + jitter*I)\n",
    "#     K_inv = torch.cholesky_inverse(L_K).real\n",
    "\n",
    "#     for it in range(max_iters):\n",
    "#         # 1) build Σ via Cholesky\n",
    "#         A_prec = K_inv + torch.diag(q.Delta) \n",
    "#         L_A    = torch.linalg.cholesky(A_prec)\n",
    "#         Sigma  = torch.cholesky_inverse(L_A)\n",
    "        \n",
    "#         # 2) compute m\n",
    "#         m = Sigma @ (y - 0.5)\n",
    "\n",
    "#         # 3) compute v \n",
    "#         v = torch.diag(Sigma)\n",
    "\n",
    "#         # 4) compute Lambda\n",
    "#         c2 = (v + m.pow(2)).clamp(min=1e-12)\n",
    "#         c  = torch.sqrt(c2)\n",
    "#         halfc = 0.5 * c\n",
    "#         Lambda = torch.tanh(halfc) / (2 * c)\n",
    "\n",
    "#         # 5) dynamic ρ\n",
    "#         rho = rho0 / (1 + gamma * it)\n",
    "\n",
    "#         # 6) step\n",
    "#         with torch.no_grad():\n",
    "#             q.Delta[:] = (1 - rho) * q.Delta + rho * Lambda\n",
    "#             q.Delta.clamp_(min=0.0)\n",
    "\n",
    "#         # 5) check residual & ELBO\n",
    "#         resid = (q.Delta - Lambda).abs().max().item()\n",
    "#         if verbose and it % 10 == 0:\n",
    "#             print(f\"it {it:3d}  ρ={rho:.3f}  max|Δ−Λ|={resid:.3e}\")\n",
    "#         if resid < tol:\n",
    "#             break\n",
    "\n",
    "#     # 3) Final posterior\n",
    "#     A     = K_inv + torch.diag(q.Delta)\n",
    "#     Sigma = torch.linalg.inv(A).real\n",
    "#     m     = Sigma @ (y - 0.5)\n",
    "#     v     = torch.diag(Sigma)\n",
    "\n",
    "#     # 4) Predictive accuracy (analytic logistic‐Gaussian approximation to the integral E_q sigma(f)\n",
    "#     denom = torch.sqrt(1.0 + (math.pi / 8.0) * v)\n",
    "#     p_hat = torch.sigmoid(m / denom)\n",
    "#     acc   = (p_hat.gt(0.5).float() == y).float().mean().item()\n",
    "#     if verbose:\n",
    "#         print(\"predictive accuracy (analytic) =\", acc)\n",
    "\n",
    "#     return m, v, acc\n",
    "# # m2, v, acc = vanilla_e_step(K_train, y, q)"
   ]
  },
  {
   "cell_type": "code",
   "execution_count": 41,
   "metadata": {},
   "outputs": [],
   "source": []
  },
  {
   "cell_type": "code",
   "execution_count": 39,
   "metadata": {},
   "outputs": [
    {
     "data": {
      "text/plain": [
       "torch.complex128"
      ]
     },
     "execution_count": 39,
     "metadata": {},
     "output_type": "execute_result"
    }
   ],
   "source": [
    "cdtype"
   ]
  },
  {
   "cell_type": "code",
   "execution_count": 40,
   "metadata": {},
   "outputs": [],
   "source": [
    "# Create the NUFFT operator\n",
    "nufft_eps = 1e-10\n",
    "OUT = (mtot,)*d\n",
    "nufft_op = NUFFT(x, torch.zeros_like(x), h, nufft_eps, cdtype=cdtype, device=device)\n",
    "\n",
    "# Define the simplified helper functions\n",
    "fadj = lambda v: nufft_op.type1(v, out_shape=OUT).reshape(-1)    # F* apply: nonuniform → uniform\n",
    "fwd = lambda fk: nufft_op.type2(fk, out_shape=OUT)                # F apply:  uniform → nonuniform"
   ]
  },
  {
   "cell_type": "code",
   "execution_count": 41,
   "metadata": {},
   "outputs": [],
   "source": [
    "# beta = torch.randn((xis.shape[0],), dtype=cdtype, device=device)\n",
    "# torch.allclose(fwd(beta), F_train@beta)"
   ]
  },
  {
   "cell_type": "code",
   "execution_count": 42,
   "metadata": {},
   "outputs": [
    {
     "name": "stdout",
     "output_type": "stream",
     "text": [
      "Passed LHS_z_batch = z + F* (Dz)\n"
     ]
    }
   ],
   "source": [
    "early_stopping = True\n",
    "cg_tol = 1e-5\n",
    "fadj_batched = vmap(fadj, in_dims=0, out_dims=0)\n",
    "fwd_batched  = vmap(fwd,  in_dims=0, out_dims=0)\n",
    "def LHS_z_batch(z: torch.Tensor,delta_dummy: torch.Tensor) -> torch.Tensor:\n",
    "    # ensure batch dim\n",
    "    if z.dim() == 1:\n",
    "        z = z.unsqueeze(0)                # (1,n)\n",
    "    Dz   = z * delta_dummy                 # (J,n)\n",
    "    FDz  = fadj_batched(Dz)              # (J,M)\n",
    "    term = fwd_batched(FDz * ws2)        # (J,n)\n",
    "    return z + term                      # (J,n)\n",
    "z_test = torch.randn(q.Delta.shape[0], dtype=cdtype, device=q.Delta.device)\n",
    "delta_dummy = torch.randn(q.Delta.shape[0], dtype=cdtype, device=q.Delta.device)\n",
    "I = torch.eye(q.Delta.shape[0], device=q.Delta.device, dtype=cdtype)\n",
    "torch.allclose((I + F_train@((torch.diag(ws2)@(F_train.conj().T)) @ torch.diag(delta_dummy))) @ z_test, LHS_z_batch(z_test,delta_dummy),atol=1e-2)\n",
    "print(f'Passed LHS_z_batch = z + F* (Dz)')\n"
   ]
  },
  {
   "cell_type": "code",
   "execution_count": 43,
   "metadata": {},
   "outputs": [
    {
     "name": "stdout",
     "output_type": "stream",
     "text": [
      "Passed Sigma_z_batch = Sigma@z\n"
     ]
    }
   ],
   "source": [
    "def make_Sigma_z_batch(delta_buf, x0=None,cg_tol=1e-5):\n",
    "    \"\"\"\n",
    "    Returns a function Sigma_z_batch(z) for the current delta_buf.\n",
    "    Args:\n",
    "        delta_buf: Current delta buffer\n",
    "        x0: Optional warm start for conjugate gradients solver\n",
    "    \"\"\"\n",
    "    apply_LHS_z_batch = lambda z: LHS_z_batch(z,delta_buf)\n",
    "    def Sigma_z_batch(z: torch.Tensor) -> torch.Tensor:\n",
    "        # ensure batch dim\n",
    "        if z.dim() == 1:\n",
    "            z = z.unsqueeze(0)\n",
    "        fadj_z = fadj_batched(z)\n",
    "        dsq_fadjz = (ws2)*fadj_z \n",
    "        rhs = fwd_batched(dsq_fadjz)          # (J,n) #checked this is good \n",
    "\n",
    "        # Use provided x0 if available, otherwise zeros\n",
    "        init_x0 = x0 if x0 is not None else torch.zeros_like(rhs)  # (J,n)\n",
    "        β  = ConjugateGradients(\n",
    "                apply_LHS_z_batch,\n",
    "                rhs,\n",
    "                init_x0,\n",
    "                tol=cg_tol,\n",
    "                early_stopping=True\n",
    "            ).solve()                      # (J,n) \n",
    "\n",
    "        return  β        # (n,) or (J,n)\n",
    "    return Sigma_z_batch\n",
    "\n",
    "F_train = naive_kernel(x,xis)\n",
    "W_F_train_star = ws.unsqueeze(1) * F_train.conj().T\n",
    "K_train = (F_train * ws) @ W_F_train_star\n",
    "\n",
    "## test Sigma_z_batch\n",
    "delta_buf = q.Delta.to(dtype=cdtype, device=device).clone()  # (n,)\n",
    "Sigma_z_batch = make_Sigma_z_batch(delta_buf)\n",
    "z_test = torch.randn(delta_buf.shape[0], dtype=delta_buf.dtype, device=delta_buf.device)\n",
    "Sigma = torch.linalg.inv(torch.linalg.inv(K_train + 1e-6*torch.eye(K_train.shape[0])) + torch.diag(delta_buf))    \n",
    "torch.allclose(Sigma_z_batch(z_test), Sigma@z_test,atol=1e-2)\n",
    "print(f'Passed Sigma_z_batch = Sigma@z')"
   ]
  },
  {
   "cell_type": "code",
   "execution_count": 44,
   "metadata": {},
   "outputs": [
    {
     "name": "stdout",
     "output_type": "stream",
     "text": [
      "it   0  ρ=0.800  max|Δ−Λ|=4.980e-02\n",
      "q.Delta[0]: 0.007149492081687696\n",
      "it   1  ρ=0.799  max|Δ−Λ|=4.710e-02\n",
      "q.Delta[0]: 0.019775955288450296\n",
      "it   2  ρ=0.798  max|Δ−Λ|=3.431e-02\n",
      "q.Delta[0]: 0.04559728037223379\n",
      "it   3  ρ=0.798  max|Δ−Λ|=2.378e-02\n",
      "q.Delta[0]: 0.09938536096301206\n",
      "it   4  ρ=0.797  max|Δ−Λ|=1.941e-02\n",
      "q.Delta[0]: 0.16854696521711326\n",
      "Final posterior recomputation..\n",
      "predictive accuracy (analytic) = 0.6244999766349792\n"
     ]
    }
   ],
   "source": [
    "import torch\n",
    "from torch.func import vmap\n",
    "import math\n",
    "\n",
    "# ----------------------------------------------------------------------\n",
    "#  Global constants / lifts\n",
    "# ----------------------------------------------------------------------\n",
    "device         = y.device\n",
    "cg_tol         = 1e-5\n",
    "early_stopping = True\n",
    "\n",
    "# squared weights\n",
    "# ws2 = (ws**2).to(dtype=cdtype, device=device)   # shape: (M,)\n",
    "\n",
    "# lift 1-D NUFFT routines into batched versions\n",
    "# fadj: (n,) -> (M,)\n",
    "# fwd : (M,) -> (n,)\n",
    "\n",
    "\n",
    "\n",
    "# ----------------------------------------------------------------------\n",
    "#  E-step\n",
    "# ----------------------------------------------------------------------\n",
    "def estep(\n",
    "    y, q,\n",
    "    max_iters=20, rho0=1.0, gamma=1e-3,\n",
    "    tol=1e-4, verbose=True, J=5\n",
    "):\n",
    "    \"\"\"\n",
    "    Polyagamma GP E-step (batched, no_grad).\n",
    "    Updates q.Delta in-place.\n",
    "    Returns final m, Sigma_diags, and predictive acc.\n",
    "    \"\"\"\n",
    "    n = y.numel()\n",
    "\n",
    "    # Pre-allocate buffers\n",
    "    y_center = (y.to(dtype=cdtype, device=device) - 0.5)  # (n,)\n",
    "    probes   = torch.empty((J, n), device=device, dtype=rdtype)\n",
    "    rhos     = rho0 / (1 + gamma * torch.arange(max_iters, device=device, dtype=rdtype))\n",
    "\n",
    "    # A mutable copy of q.Delta used in all mat-vecs\n",
    "    delta_buf = q.Delta.to(dtype=cdtype, device=device).clone()  # (n,)\n",
    "\n",
    "    with torch.no_grad():\n",
    "        for it in range(max_iters):\n",
    "            # 1) update the buffer once\n",
    "            delta_buf.copy_(q.Delta.to(dtype=cdtype, device=device))\n",
    "\n",
    "            # 2) posterior mean\n",
    "            Sigma_z_batch = make_Sigma_z_batch(delta_buf)\n",
    "            m = Sigma_z_batch(y_center).real       # (n,)\n",
    "\n",
    "            # 3) Hutchinson trace for diag(Σ)\n",
    "            probes.normal_()                       # in-place\n",
    "            Sz = Sigma_z_batch(probes)             # (J,n)\n",
    "            Sigma_diags = (probes * Sz).mean(dim=0).real  # (n,)\n",
    "\n",
    "            # 4) Lambda and Δ update\n",
    "            c2     = (Sigma_diags + m.pow(2)).clamp(min=1e-12)\n",
    "            c      = c2.sqrt()\n",
    "            Lambda = torch.tanh(0.5 * c) / (2 * c) # (n,)\n",
    "\n",
    "            rho = rhos[it].item()\n",
    "            q.Delta.mul_(1 - rho).add_(rho * Lambda.flatten())\n",
    "            q.Delta.clamp_(min=0.0)\n",
    "\n",
    "            resid = (q.Delta - Lambda).abs().max().item()\n",
    "            # if verbose and (it % 10 == 0 or resid < tol):\n",
    "            if verbose:\n",
    "                print(f\"it {it:3d}  ρ={rho:.3f}  max|Δ−Λ|={resid:.3e}\")\n",
    "                print(f\"q.Delta[0]: {q.Delta[0]}\")\n",
    "            if resid < tol:\n",
    "                break\n",
    "\n",
    "        # ------------------------------------------------------------------\n",
    "        #  Final posterior recomputation\n",
    "        # ------------------------------------------------------------------\n",
    "        print(f'Final posterior recomputation..')\n",
    "        delta_buf.copy_(q.Delta.to(dtype=cdtype, device=device))\n",
    "        Sigma_z_batch = make_Sigma_z_batch(delta_buf)\n",
    "        m           = Sigma_z_batch(y_center).real      # (n,)\n",
    "        probes.bernoulli_(0.5).mul_(2).sub_(1)  # Rademacher: random ±1\n",
    "        Sz          = Sigma_z_batch(probes)            # (J,n)\n",
    "        Sigma_diags = (probes.to(dtype=cdtype) * Sz).mean(dim=0).real   # (n,)\n",
    "\n",
    "        # Predictive accuracy (analytic logistic‐Gaussian)\n",
    "        denom = torch.sqrt(1.0 + (math.pi / 8.0) * Sigma_diags)\n",
    "        p_hat = torch.sigmoid(m / denom)\n",
    "        acc   = (p_hat.gt(0.5) == y).float().mean().item()\n",
    "        if verbose:\n",
    "            print(\"predictive accuracy (analytic) =\", acc)\n",
    "\n",
    "    return m, Sigma_diags, acc,Sz,probes\n",
    "\n",
    "# ----------------------------------------------------------------------\n",
    "#  Example usage\n",
    "# ----------------------------------------------------------------------\n",
    "q = qVariationalParams()\n",
    "m, Sigma_diags, acc,Sz,probes = estep(\n",
    "    y, q,\n",
    "    max_iters=5,\n",
    "    rho0=0.8,\n",
    "    gamma=1e-3,\n",
    "    tol=1e-6,\n",
    "    verbose=True,\n",
    "    J=10\n",
    ")\n"
   ]
  },
  {
   "cell_type": "code",
   "execution_count": 45,
   "metadata": {},
   "outputs": [
    {
     "data": {
      "image/png": "[encoded data removed]",
      "text/plain": [
       "<Figure size 1000x200 with 1 Axes>"
      ]
     },
     "metadata": {},
     "output_type": "display_data"
    }
   ],
   "source": [
    "# plot m versus f and m2 versus f \n",
    "import matplotlib.pyplot as plt\n",
    "\n",
    "plt.figure(figsize=(10,2))\n",
    "\n",
    "plt.subplot(1,2,1)\n",
    "plt.scatter(m.detach().cpu().numpy(), f.detach().cpu().numpy(), alpha=0.5)\n",
    "plt.xlabel(\"f (posterior mean)\")\n",
    "plt.ylabel(\"m (posterior mean)\")\n",
    "plt.title(\"m vs f\")\n",
    "\n",
    "# plt.subplot(1,2,2)\n",
    "# plt.scatter(m2.detach().cpu().numpy(), f.detach().cpu().numpy(), alpha=0.5)\n",
    "# plt.xlabel(\"m2 (posterior variance)\")\n",
    "# plt.ylabel(\"f (posterior mean)\")\n",
    "# plt.title(\"m2 vs f\")\n",
    "\n",
    "plt.tight_layout()\n",
    "plt.show()\n"
   ]
  },
  {
   "cell_type": "markdown",
   "metadata": {},
   "source": [
    "# M Step"
   ]
  },
  {
   "cell_type": "code",
   "execution_count": 46,
   "metadata": {},
   "outputs": [],
   "source": [
    "m_conv = (mtot - 1) // 2\n",
    "v_kernel = compute_convolution_vector_vectorized_dD(m_conv, x, h).to(dtype=cdtype)\n",
    "toeplitz = ToeplitzND(v_kernel, force_pow2=True)   \n",
    "Dprime  = (h**d * kernel.spectral_grad(xis)).to(cdtype)  # (M, 3)\n",
    "delta = (q.Delta.to(dtype=cdtype, device=device)).clone()\n",
    "\n",
    "Sigma_z_batch = make_Sigma_z_batch(delta)\n",
    "\n"
   ]
  },
  {
   "cell_type": "code",
   "execution_count": 47,
   "metadata": {},
   "outputs": [
    {
     "data": {
      "text/plain": [
       "tensor([0.0094+0.j, 0.0155+0.j, 0.0247+0.j, 0.0380+0.j, 0.0566+0.j, 0.0814+0.j, 0.1130+0.j,\n",
       "        0.1516+0.j, 0.1964+0.j, 0.2459+0.j, 0.2973+0.j, 0.3474+0.j, 0.3920+0.j, 0.4274+0.j,\n",
       "        0.4502+0.j, 0.4580+0.j, 0.4502+0.j, 0.4274+0.j, 0.3920+0.j, 0.3474+0.j, 0.2973+0.j,\n",
       "        0.2459+0.j, 0.1964+0.j, 0.1516+0.j, 0.1130+0.j, 0.0814+0.j, 0.0566+0.j, 0.0380+0.j,\n",
       "        0.0247+0.j, 0.0155+0.j, 0.0094+0.j])"
      ]
     },
     "execution_count": 47,
     "metadata": {},
     "output_type": "execute_result"
    }
   ],
   "source": [
    "ws"
   ]
  },
  {
   "cell_type": "code",
   "execution_count": 48,
   "metadata": {},
   "outputs": [],
   "source": [
    "Sigma_z_batch = make_Sigma_z_batch(delta,cg_tol=1e-5)\n",
    "Sigma = torch.linalg.inv(torch.linalg.inv(K_train + 1e-6*torch.eye(K_train.shape[0])) + torch.diag(q.Delta))"
   ]
  },
  {
   "cell_type": "code",
   "execution_count": 49,
   "metadata": {},
   "outputs": [
    {
     "data": {
      "text/plain": [
       "True"
      ]
     },
     "execution_count": 49,
     "metadata": {},
     "output_type": "execute_result"
    }
   ],
   "source": [
    "u =torch.randn(n, device=device, dtype=cdtype)\n",
    "torch.allclose(Sigma_z_batch(u), Sigma@u,atol=1e-2)"
   ]
  },
  {
   "cell_type": "code",
   "execution_count": 50,
   "metadata": {},
   "outputs": [
    {
     "name": "stdout",
     "output_type": "stream",
     "text": [
      "CG solve relative residual (should be extremely small): 2.631137516615337e-13\n"
     ]
    }
   ],
   "source": [
    "J = 5\n",
    "device = m.device\n",
    "dtype  = m.dtype\n",
    "n      = m.numel()\n",
    "M, P   = Dprime.shape\n",
    "# center = toeplitz.v_pad[tuple(toeplitz.starts)]\n",
    "jitter_val = 1e-10 # or a similar small number\n",
    "\n",
    "toeplitz_reg = lambda x: toeplitz(x) + jitter_val * x\n",
    "\n",
    "\n",
    "# Buffers\n",
    "# probes = torch.empty((J,n), device=device, dtype=dtype)\n",
    "x0_M   = torch.zeros((J,M), device=device, dtype=dtype)\n",
    "\n",
    "# Term I:  <D^{-2}beta, D' D^{-2}beta>\n",
    "rhs1  = fadj(m)                                 # (M,)\n",
    "x0_1  = torch.zeros_like(rhs1)                  # complex or real\n",
    "beta  = ConjugateGradients(\n",
    "            toeplitz_reg, rhs1, x0_1,\n",
    "            tol=1e-5, early_stopping=False,max_iter=30000\n",
    "            ).solve() \n",
    "# Check how well beta solves the system\n",
    "res_cg = toeplitz_reg(beta) - rhs1\n",
    "rel_res_cg = torch.norm(res_cg) / torch.norm(rhs1)\n",
    "print(\"CG solve relative residual (should be extremely small):\", rel_res_cg.item())\n",
    "# Compare to manual calculation\n",
    "L = torch.linalg.cholesky(F_train.T.conj()@F_train + jitter_val*torch.eye(F_train.shape[1]))\n",
    "beta_manual = torch.cholesky_solve(fadj(m).unsqueeze(-1), L).squeeze(-1)\n"
   ]
  },
  {
   "cell_type": "code",
   "execution_count": 51,
   "metadata": {},
   "outputs": [
    {
     "name": "stdout",
     "output_type": "stream",
     "text": [
      "CG rel residual: 2.631137516615337e-13\n",
      "Dense rel residual: 2.2999215305502545e-16\n",
      "Rel difference β: 6.59998195082763e-07\n"
     ]
    }
   ],
   "source": [
    "# 1) CG residual\n",
    "rel_res_cg = torch.norm(toeplitz_reg(beta) - rhs1) / torch.norm(rhs1)\n",
    "print(\"CG rel residual:\", rel_res_cg.item())\n",
    "\n",
    "# 2) direct-solve residual\n",
    "res_manual = (F_train.T.conj()@F_train + jitter_val*torch.eye(M,device=device)) @ beta_manual - rhs1\n",
    "rel_res_manual = torch.norm(res_manual) / torch.norm(rhs1)\n",
    "print(\"Dense rel residual:\", rel_res_manual.item())\n",
    "\n",
    "# 3) difference between the two solutions\n",
    "rel_diff = torch.norm(beta - beta_manual) / torch.norm(beta_manual)\n",
    "print(\"Rel difference β:\", rel_diff.item())"
   ]
  },
  {
   "cell_type": "code",
   "execution_count": 52,
   "metadata": {},
   "outputs": [
    {
     "name": "stderr",
     "output_type": "stream",
     "text": [
      "/Users/colecitrenbaum/myenv/lib/python3.13/site-packages/matplotlib/cbook.py:1762: ComplexWarning: Casting complex values to real discards the imaginary part\n",
      "  return math.isfinite(val)\n",
      "/Users/colecitrenbaum/myenv/lib/python3.13/site-packages/matplotlib/collections.py:197: ComplexWarning: Casting complex values to real discards the imaginary part\n",
      "  offsets = np.asanyarray(offsets, float)\n"
     ]
    },
    {
     "data": {
      "text/plain": [
       "<matplotlib.collections.PathCollection at 0x14ff59d10>"
      ]
     },
     "execution_count": 52,
     "metadata": {},
     "output_type": "execute_result"
    },
    {
     "data": {
      "image/png": "[encoded data removed]",
      "text/plain": [
       "<Figure size 640x480 with 1 Axes>"
      ]
     },
     "metadata": {},
     "output_type": "display_data"
    }
   ],
   "source": [
    "plt.scatter(beta_manual.detach().cpu().numpy(), beta.detach().cpu().numpy())"
   ]
  },
  {
   "cell_type": "code",
   "execution_count": 53,
   "metadata": {},
   "outputs": [
    {
     "name": "stdout",
     "output_type": "stream",
     "text": [
      "[Profile] Precompute: 0.000135 s\n",
      "[Profile] Term I: 0.003149 s\n",
      "torch.Size([10, 2000])\n",
      "[Profile] Rademacher probes: 0.000088 s\n",
      "[Profile] fadj_b: 0.001878 s\n",
      "[Profile] Alpha solve: 0.002891 s\n",
      "[Profile] Sigma_z_batch: 0.241223 s\n",
      "[Profile] fadj_b: 0.000803 s\n",
      "[Profile] Term II: 0.003668 s\n",
      "[Profile] Term III: 0.000022 s\n",
      "[Profile] Total m_step: 0.254102 s\n"
     ]
    }
   ],
   "source": [
    "import time\n",
    "def m_step(\n",
    "    q,\n",
    "    m,                       # posterior mean ∈ ℂⁿ or ℝⁿ\n",
    "    Sigma_z_batch,           # batched Σ·z: ℝ^{(J,n)}→ℝ^{(J,n)}\n",
    "    fadj,                    # ℝⁿ→ℂᴹ or ℝⁿ→ℝᴹ\n",
    "    toeplitz,                # ToeplitzND: ℂᴹ→ℂᴹ\n",
    "    ws2,                 # spectral-domain weights ∈ ℝᴹ\n",
    "    Dprime,                  # spectral grads ∈ ℝᴹˣᴾ\n",
    "    J: int = 5,\n",
    "    cg_tol: float = 1e-4,\n",
    "    early_stopping: bool = True\n",
    "):\n",
    "    device = m.device\n",
    "    dtype  = m.dtype\n",
    "    n      = m.numel()\n",
    "    M, P   = Dprime.shape\n",
    "    # center = toeplitz.v_pad[tuple(toeplitz.starts)]\n",
    "    jitter_val = 1e-10 # or a similar small number\n",
    "\n",
    "    toeplitz_reg = lambda x: toeplitz(x) + jitter_val * x\n",
    "\n",
    "\n",
    "    # Precompute once\n",
    "    t0 = time.time()\n",
    "    # ws2    = ws_spec.square().to(device=device, dtype=dtype)  # D_i²\n",
    "    ws2 = ws2 \n",
    "    Dp     = Dprime.to(device=device, dtype=dtype)            # (M,P)\n",
    "    fadj_b = vmap(fadj, in_dims=0, out_dims=0)                # (J,n)->(J,M)\n",
    "    t1 = time.time()\n",
    "    print(f\"[Profile] Precompute: {t1-t0:.6f} s\")\n",
    "\n",
    "    # Buffers\n",
    "    probes = torch.empty((J,n), device=device, dtype=dtype)\n",
    "    x0_M   = torch.zeros((J,M), device=device, dtype=dtype)\n",
    "\n",
    "    # Term I:  <D^{-2}beta, D' D^{-2}beta>\n",
    "    t2 = time.time()\n",
    "    rhs1  = fadj(m)                                 # (M,)\n",
    "    x0_1  = torch.zeros_like(rhs1)                  # complex or real\n",
    "    beta  = ConjugateGradients(\n",
    "                toeplitz_reg, rhs1, x0_1,\n",
    "                tol=1e-5, early_stopping=early_stopping,\n",
    "            ).solve()                              # (M,)\n",
    "    ws2_jitter = ws2 + jitter_val\n",
    "    d2beta = beta / ws2_jitter                            # = D^{-2}beta\n",
    "    term1 = (d2beta * d2beta.conj()).real @ Dp     # sum_i (d2beta_i)^2 D'_i\n",
    "    t3 = time.time()\n",
    "    print(f\"[Profile] Term I: {t3-t2:.6f} s\")\n",
    "\n",
    "    # One batch of Rademacher probes\n",
    "    t4 = time.time()\n",
    "    # torch.manual_seed(0)\n",
    "    probes.bernoulli_(0.5).mul_(2).sub_(1)         # ±1\n",
    "    print(probes.shape)\n",
    "    t5 = time.time()\n",
    "    print(f\"[Profile] Rademacher probes: {t5-t4:.6f} s\")\n",
    "\n",
    "    # alpha_j = F^* K^{-1} z_j  via solving toeplitz beta-system\n",
    "    t6 = time.time()\n",
    "    rhs_alpha  = fadj_b(probes)                    # (J,M)\n",
    "    x0_alpha  = torch.zeros_like(rhs_alpha)\n",
    "    t7 = time.time()\n",
    "    print(f\"[Profile] fadj_b: {t7-t6:.6f} s\")\n",
    "    t_alpha = time.time()\n",
    "    alpha  = ConjugateGradients(\n",
    "                toeplitz_reg, rhs_alpha, x0_alpha,\n",
    "                tol=1e-5, early_stopping=early_stopping, \n",
    "            ).solve()                             # (J,M)\n",
    "    t_alpha2 = time.time()\n",
    "    print(f\"[Profile] Alpha solve: {t_alpha2-t_alpha:.6f} s\")\n",
    "\n",
    "    # Term II:  (1/J) sum_j [ w_j * alpha_j ]^T D'\n",
    "    t8 = time.time()\n",
    "    Sz    = Sigma_z_batch(probes)                  # (J,n)\n",
    "    t9 = time.time()\n",
    "    print(f\"[Profile] Sigma_z_batch: {t9-t8:.6f} s\")\n",
    "    rhs_w = fadj_b(Sz)                             # (J,M)\n",
    "    t10 = time.time()\n",
    "    print(f\"[Profile] fadj_b: {t10-t9:.6f} s\")\n",
    "    x0_w  = torch.zeros_like(rhs_w)\n",
    "    w     = ConjugateGradients(\n",
    "                toeplitz_reg, rhs_w, x0_w,\n",
    "                tol=1e-10, early_stopping=early_stopping, \n",
    "            ).solve()                             # (J,M)\n",
    "    g     = (w.conj()/(ws2) * alpha/(ws2)).sum(dim=0)          # sum_j (w_j * alpha_j)\n",
    "    term2 = (g.real @ Dp) / J                      # average over J\n",
    "    t11 = time.time()\n",
    "    print(f\"[Profile] Term II: {t11-t10:.6f} s\")\n",
    "\n",
    "    # Term III: (1/J) sum_j [ (F^* z_j) * alpha_j ]^T D'\n",
    "    t12 = time.time()\n",
    "    h     = (rhs_alpha.conj() * alpha/(ws2)).sum(dim=0)  # sum_j (F^*z_j * alpha_j)\n",
    "    term3 = (h.real @ Dp) / J                      # average over J\n",
    "    t13 = time.time()\n",
    "    print(f\"[Profile] Term III: {t13-t12:.6f} s\")\n",
    "    t14 = time.time()\n",
    "    print(f\"[Profile] Total m_step: {t14-t0:.6f} s\")\n",
    "    return term1, term2, term3\n",
    "term1, term2, term3 = m_step(q=q, m=m, Sigma_z_batch=Sigma_z_batch, fadj=fadj, toeplitz=toeplitz, ws2=ws2, Dprime=Dprime, J=10)\n",
    "# print(term1, term2, term3)\n",
    "grad_m = 0.5*(term1 + term2 - term3)\n"
   ]
  },
  {
   "cell_type": "markdown",
   "metadata": {},
   "source": [
    "# make sure close to the autograd "
   ]
  },
  {
   "cell_type": "markdown",
   "metadata": {},
   "source": [
    "## testing "
   ]
  },
  {
   "cell_type": "code",
   "execution_count": 54,
   "metadata": {},
   "outputs": [],
   "source": [
    "import torch\n",
    "num_iters = 20\n",
    "jitter = 1e-10\n",
    "# def pg_manual_elbo_and_grad(X, y, kernel, num_iters=10, jitter=1e-10):\n",
    "\"\"\"\n",
    "Returns: (ELBO, grad_var, grad_ls)\n",
    "for GP classification ELBO under Poly-Gamma augmentation,\n",
    "with manual gradients for kernel.variance and kernel.lengthscale.\n",
    "\"\"\"\n",
    "n = x.shape[0]\n",
    "device = x.device\n",
    "\n",
    "# 1) Precompute things that don't change in the loop\n",
    "kappa = y - 0.5                                 # (n,)\n",
    "Kff   = F_train@(torch.diag(ws2))@F_train.T.conj()      \n",
    "Kff = Kff.real                     # (n,n)\n",
    "D2    = torch.cdist(x, x, p=2).pow(2)            # (n,n)\n",
    "\n",
    "# 2) PG variational parameter\n",
    "xi = torch.ones(n, device=device)\n",
    "\n",
    "# 3) Fixed-point updates for (m, S)\n",
    "for _ in range(1):\n",
    "    # omega = 0.5/xi * torch.tanh(xi/2)            # (n,)\n",
    "    omega = q.Delta\n",
    "\n",
    "    # build K = Kff + jitter·I\n",
    "    K = Kff + jitter*torch.eye(n, device=device)\n",
    "    L = torch.linalg.cholesky(K)                # K = L Lᵀ\n",
    "\n",
    "    # K⁻¹ via Cholesky\n",
    "    I = torch.eye(n, device=device)\n",
    "    K_inv = torch.cholesky_solve(I, L)          # (n,n)\n",
    "\n",
    "    # S⁻¹ = K⁻¹ + diag(ω)  ⇒  S = (S⁻¹)⁻¹\n",
    "    S_inv = K_inv + torch.diag(omega)\n",
    "    LS    = torch.linalg.cholesky(S_inv)\n",
    "    S     = torch.cholesky_inverse(LS)          # (n,n)\n",
    "\n",
    "    # posterior mean m = S κ\n",
    "    # m = S @ kappa                               # (n,)\n",
    "\n",
    "    # 4) Compute ELBO = E_q[log p(y,f,ω)] − E_q[log q(f,ω)]\n",
    "    # 4a) likelihood term\n",
    "    elbo_lik = (kappa*m\n",
    "                - 0.5*omega*(m**2 + torch.diagonal(S))\n",
    "                - torch.log(torch.tensor(2.0, device=device))).sum()\n",
    "    # 4b) prior term\n",
    "    m_col     = m.T                \n",
    "    Kinv_m    = torch.cholesky_solve(m_col, L).squeeze(-1)\n",
    "    quad       = (m * Kinv_m).sum()\n",
    "    trace_S    = torch.trace(torch.cholesky_solve(S, L))\n",
    "    logdet_K   = 2.0*torch.sum(torch.log(torch.diagonal(L)))\n",
    "    elbo_prior = -0.5*(quad + trace_S + logdet_K + n*math.log(2*torch.pi))\n",
    "    elbo       = elbo_lik + elbo_prior\n",
    "\n",
    "    # 5) Manual gradients\n",
    "    var = kernel.variance\n",
    "    ls  = kernel.lengthscale\n",
    "\n",
    "    # ∂K/∂var and ∂K/∂ls\n",
    "    dK_dvar = F_train@torch.diag(Dprime[:,1].to(dtype=cdtype))@F_train.T.conj()\n",
    "    dK_dls  = F_train@torch.diag(Dprime[:,0].to(dtype=cdtype))@F_train.T.conj()\n",
    "\n",
    "    # helper: v = K⁻¹ m\n",
    "    v = torch.cholesky_solve(m_col, L).squeeze(-1)\n",
    "\n",
    "    # grad wrt variance\n",
    "    t1var = v @ (dK_dvar.to(dtype=rdtype ) @ v)\n",
    "    t2var = torch.trace(K_inv @ dK_dvar.to(dtype=rdtype) @ K_inv @ S)\n",
    "    t3var = torch.trace(K_inv @ dK_dvar.to(dtype=rdtype))\n",
    "    grad_var = 0.5*(t1var + t2var - t3var)\n",
    "\n",
    "    # grad wrt lengthscale\n",
    "    t1 = v @ (dK_dls.to(dtype=rdtype) @ v)\n",
    "    # print(v[0])\n",
    "    # print(dK_dls[0])\n",
    "    t2 = torch.trace(K_inv @ dK_dls.to(dtype=rdtype) @ K_inv @ S)\n",
    "    t3 = torch.trace(K_inv @ dK_dls.to(dtype=rdtype))\n",
    "    grad_ls = 0.5*(t1 + t2 - t3)\n",
    "\n",
    "      # return t1,t2,t3, grad_var, grad_ls\n",
    "# print(t1,t2,t3,elbo)\n",
    "t1v1=t1\n",
    "t2v1=t2\n",
    "t3v1=t3\n",
    "elbo1=elbo\n"
   ]
  },
  {
   "cell_type": "code",
   "execution_count": 55,
   "metadata": {},
   "outputs": [
    {
     "name": "stdout",
     "output_type": "stream",
     "text": [
      "##Lengthscale##\n",
      "term1: -211.02862068816034, term2: -1098.9011329235195, term3: -1491.0654173823136, \n",
      "t1v1: -209.07895019630163, t2v1: -975.0543130723394, t3v1: -1404.255597552472, elbo1: 18575.374362506882\n",
      "##Variance##\n",
      "t1var: 6.962965559810172, t2var: 5.740084302840171, t3var: 15.332753467477854\n",
      "t1v1: 6.920114328551218, t2v1: 5.632171168202398, t3v1: 15.499833952466293\n",
      "### Grad###\n",
      "grad_m: tensor([90.5678, -1.3149])\n",
      "grad_ls: 110.06116714191546\n",
      "grad_var: -1.4737742278563388\n"
     ]
    }
   ],
   "source": [
    "\n",
    "print('##Lengthscale##')\n",
    "print(f'term1: {term1[0]}, term2: {term2[0]}, term3: {term3[0]}, ')\n",
    "# print(f't1: {t1}, t2: {t2}, t3: {t3}, elbo: {elbo}')\n",
    "print(f't1v1: {t1v1}, t2v1: {t2v1}, t3v1: {t3v1}, elbo1: {elbo1}')\n",
    "print('##Variance##')\n",
    "print(f't1var: {term1[1]}, t2var: {term2[1]}, t3var: {term3[1]}')\n",
    "print(f't1v1: {t1var}, t2v1: {t2var}, t3v1: {t3var}')\n",
    "print('### Grad###')\n",
    "print(f'grad_m: {grad_m}')\n",
    "print(f'grad_ls: {grad_ls}')\n",
    "print(f'grad_var: {grad_var}')\n"
   ]
  }
 ],
 "metadata": {
  "kernelspec": {
   "display_name": "myenv",
   "language": "python",
   "name": "python3"
  },
  "language_info": {
   "codemirror_mode": {
    "name": "ipython",
    "version": 3
   },
   "file_extension": ".py",
   "mimetype": "text/x-python",
   "name": "python",
   "nbconvert_exporter": "python",
   "pygments_lexer": "ipython3",
   "version": "3.13.0"
  }
 },
 "nbformat": 4,
 "nbformat_minor": 2
}
