{
 "cells": [
  {
   "cell_type": "code",
   "execution_count": 1,
   "metadata": {},
   "outputs": [
    {
     "name": "stdout",
     "output_type": "stream",
     "text": [
      "Using device: cpu\n"
     ]
    }
   ],
   "source": [
    "import torch\n",
    "import numpy as np\n",
    "import matplotlib.pyplot as plt\n",
    "import time\n",
    "# from kernels.squared_exponential import SquaredExponential\n",
    "# from kernels.matern import Matern\n",
    "from torch.optim import Adam\n",
    "\n",
    "# import sys\n",
    "import math\n",
    "# sys.path.append('/Users/colecitrenbaum/Documents/GPs/gp-quadrature/Tests and Sanity Checks/')\n",
    "from efgpnd import EFGPND\n",
    "import warnings\n",
    "# warnings.filterwarnings(\"ignore\", message=\".*disabling cuda.*\")\n",
    "\n",
    "\n",
    "# --- Parameters ---\n",
    "n = 100  # Number of points\n",
    "d = 2  # Dimensionality of the input space\n",
    "true_length_scale =0.15\n",
    "true_variance = 1\n",
    "true_noise_variance = 0.2\n",
    "dtype = torch.float32  # Use float64 as in the original example\n",
    "device = torch.device(\"cuda\" if torch.cuda.is_available() else \"cpu\")  # Use GPU if available\n",
    "print(f\"Using device: {device}\")\n",
    "from cg import ConjugateGradients\n",
    "# --- Generate Input Points ---\n",
    "# Generate random points in d-dimensional space from -1 to 1\n",
    "x = torch.rand(n, d, dtype=dtype, device=device) * 2 - 1\n",
    "\n",
    "\n",
    "EPSILON = 1e-4"
   ]
  },
  {
   "cell_type": "code",
   "execution_count": 2,
   "metadata": {},
   "outputs": [],
   "source": [
    "# Generate test points (grid of points for visualization if d <= 3)\n",
    "if d >= 2:\n",
    "    # Create a grid of points for testing\n",
    "    grid_points_per_dim = 20\n",
    "    grid_points = [torch.linspace(x.min()-0.1, 0.1+x.max(), grid_points_per_dim, dtype=dtype, device=device) for _ in range(d)]\n",
    "    mesh_grid = torch.meshgrid(*grid_points, indexing='ij')\n",
    "    x_new = torch.stack([grid.flatten() for grid in mesh_grid], dim=1)\n",
    "elif d==1:\n",
    "    grid_points_per_dim = 3000\n",
    "    grid_points = [torch.linspace(x.min()-0.1, 0.1+x.max(), grid_points_per_dim, dtype=dtype, device=device) for _ in range(d)]\n",
    "    mesh_grid = torch.meshgrid(*grid_points, indexing='ij')\n",
    "    x_new = torch.stack([grid.flatten() for grid in mesh_grid], dim=1)\n",
    "else:\n",
    "    # For higher dimensions, just use random test points\n",
    "    x_new = torch.rand(1000, d, dtype=dtype, device=device) * 2.4 - 1.2\n",
    "\n",
    "from vanilla_gp_sampling import sample_gp_fast, sample_gp_matern\n",
    "\n",
    "# # For squared exponential kernel\n",
    "samples_se = sample_gp_fast(\n",
    "    x,\n",
    "    length_scale=true_length_scale,\n",
    "    variance=true_variance,\n",
    "    noise_variance=true_noise_variance\n",
    ")\n",
    "# # For Matern kernel\n",
    "# samples_m32 = sample_gp_matern(\n",
    "#     x,\n",
    "#     nu=1.5,  # 3/2 Matern\n",
    "#     length_scale=true_length_scale,\n",
    "#     variance=true_variance,\n",
    "#     noise_variance=true_noise_variance\n",
    "# )\n",
    "y = samples_se"
   ]
  },
  {
   "cell_type": "code",
   "execution_count": 3,
   "metadata": {},
   "outputs": [
    {
     "name": "stderr",
     "output_type": "stream",
     "text": [
      "/Users/colecitrenbaum/Documents/GPs/gp-quadrature/efgpnd.py:87: UserWarning: Casting complex values to real discards the imaginary part (Triggered internally at /Users/runner/work/pytorch/pytorch/pytorch/aten/src/ATen/native/Copy.cpp:308.)\n",
      "  ws  = ws.to(dtype=dtype, device=device)\n"
     ]
    }
   ],
   "source": [
    "sigmasq = 0.2 \n",
    "from efgpnd import efgp_nd\n",
    "from kernels.squared_exponential import SquaredExponential\n",
    "kernel = SquaredExponential(dimension=2, lengthscale=0.1, variance=1, noise_variance=sigmasq)\n",
    "beta, xis, ytrg, ws, toeplitz = efgp_nd(x, y, kernel=kernel, eps=EPSILON,sigmasq = sigmasq,x_new=x_new,opts={\"get_log_marginal_likelihood\":True})"
   ]
  },
  {
   "cell_type": "code",
   "execution_count": 4,
   "metadata": {},
   "outputs": [
    {
     "name": "stdout",
     "output_type": "stream",
     "text": [
      "tensor(-145.4209) tensor(144.5196)\n"
     ]
    }
   ],
   "source": [
    "from efgpnd import negative_log_marginal_likelihood\n",
    "true_log_marginal_likelihood = negative_log_marginal_likelihood(x, y, kernel.lengthscale, kernel.variance, sigmasq)\n",
    "print(ytrg['log_marginal_likelihood'],true_log_marginal_likelihood)"
   ]
  },
  {
   "cell_type": "code",
   "execution_count": 16,
   "metadata": {},
   "outputs": [],
   "source": [
    "ws = ws.to(dtype=torch.complex128)\n",
    "D = torch.diag(ws).to(dtype=torch.complex128) # (mtot**d, mtot**d)\n",
    "F = torch.exp(1j * 2 * torch.pi * (x @ xis.T))\n",
    "F = F.to(dtype=torch.complex128)\n",
    "A = D @ (torch.conj(F).T @ F) @ D\n",
    "kernel_approx =  ((F @ torch.diag(ws)) @ (torch.diag(ws) @ torch.conj(F).T))\n"
   ]
  },
  {
   "cell_type": "code",
   "execution_count": 17,
   "metadata": {},
   "outputs": [
    {
     "data": {
      "text/plain": [
       "torch.Size([100, 100])"
      ]
     },
     "execution_count": 17,
     "metadata": {},
     "output_type": "execute_result"
    }
   ],
   "source": [
    "(F@D@D@torch.conj(F).T).shape"
   ]
  },
  {
   "cell_type": "code",
   "execution_count": 18,
   "metadata": {},
   "outputs": [
    {
     "data": {
      "text/plain": [
       "tensor(-7.6898, dtype=torch.float64)"
      ]
     },
     "execution_count": 18,
     "metadata": {},
     "output_type": "execute_result"
    }
   ],
   "source": [
    "torch.logdet(F@D@D@torch.conj(F).T + sigmasq*torch.eye(n)).real"
   ]
  },
  {
   "cell_type": "markdown",
   "metadata": {},
   "source": [
    "## Log det stuff\n",
    "\n",
    "\n",
    "\n",
    "\n",
    "\n",
    "\n",
    "\n",
    "$$\\log |K + \\sigma^2 I| = \\log |\\Phi^* \\Phi \\sigma^{-2} +I|\\sigma^2n$$\n"
   ]
  },
  {
   "cell_type": "code",
   "execution_count": 55,
   "metadata": {},
   "outputs": [],
   "source": [
    "cg_tol = 1e-10"
   ]
  },
  {
   "cell_type": "code",
   "execution_count": 27,
   "metadata": {},
   "outputs": [
    {
     "data": {
      "text/plain": [
       "torch.Size([1681, 1681])"
      ]
     },
     "execution_count": 27,
     "metadata": {},
     "output_type": "execute_result"
    }
   ],
   "source": [
    "(D@ F.conj().T @ F @ D).shape"
   ]
  },
  {
   "cell_type": "code",
   "execution_count": 50,
   "metadata": {},
   "outputs": [],
   "source": [
    "true_det = torch.log(torch.det(D@ F.conj().T @ F @ D * sigmasq**(-1) + torch.eye(F.shape[1]).to(dtype=torch.complex128))*sigmasq**(n)).real"
   ]
  },
  {
   "cell_type": "code",
   "execution_count": null,
   "metadata": {},
   "outputs": [],
   "source": [
    "# Fy = fadj(y).reshape(-1)\n",
    "\n",
    "# rhs   = ws * Fy\n",
    "# beta  = ConjugateGradients(A_apply, rhs,\n",
    "#                         torch.zeros_like(rhs),\n",
    "#                         tol=cg_tol, early_stopping=True).solve()\n",
    "# alpha = (y - fwd(ws * beta)) / sigmasq # (\\tilde{K} +sigma^2 I)^{-1} y"
   ]
  },
  {
   "cell_type": "code",
   "execution_count": 48,
   "metadata": {},
   "outputs": [
    {
     "name": "stdout",
     "output_type": "stream",
     "text": [
      "log‑det ≈ -9.734883\n"
     ]
    }
   ],
   "source": [
    "import torch, math\n",
    "\n",
    "# ------------------------------------------------------------\n",
    "# 1.  fast mat‑vec  Gv = D T D v\n",
    "# ------------------------------------------------------------\n",
    "def make_df_fd_matvec(ws, toeplitz):\n",
    "    def Gv(v):\n",
    "        return ws * toeplitz(ws * v)\n",
    "    return Gv\n",
    "\n",
    "\n",
    "# ------------------------------------------------------------\n",
    "# 2.  Hutchinson + Lanczos log‑det\n",
    "# ------------------------------------------------------------\n",
    "@torch.no_grad()\n",
    "def logdet_slq(ws, sigma2, toeplitz,\n",
    "               *, probes=1000, steps=100,\n",
    "               dtype=torch.float64, device=\"cpu\",\n",
    "               eps=1e-18):\n",
    "    \"\"\"\n",
    "    Estimate  log det(I + σ⁻² D T D).\n",
    "\n",
    "    ws        (m,)            – diagonal weights\n",
    "    sigma2    float           – noise variance σ²\n",
    "    toeplitz  callable        – fast Toeplitz mat‑vec\n",
    "    probes, steps             – Hutchinson & Lanczos params\n",
    "    eps                       – floor for Ritz eigen‑values\n",
    "    \"\"\"\n",
    "    ws  = ws.to(dtype=dtype, device=device)\n",
    "    m   = ws.numel()\n",
    "    σ2  = torch.as_tensor(sigma2, dtype=dtype, device=device)\n",
    "\n",
    "    # closures ------------------------------------------------\n",
    "    Gv = make_df_fd_matvec(ws, toeplitz)\n",
    "    Av = lambda v: v + (1.0 / σ2) * Gv(v)\n",
    "\n",
    "    logdet_acc = torch.zeros((), dtype=dtype, device=device)\n",
    "\n",
    "    for _ in range(probes):\n",
    "        # ---------- probe ------------------------------\n",
    "        z = torch.empty(m, dtype=dtype, device=device).bernoulli_(0.5)\n",
    "        z = z.mul_(2).sub_(1)           # ±1  Rademacher\n",
    "        q = z / z.norm()                # safer than sqrt(m)\n",
    "\n",
    "        # ---------- Lanczos ----------------------------\n",
    "        alphas, betas = [], []\n",
    "        q_prev, beta_prev = torch.zeros_like(q), torch.tensor(\n",
    "            0.0, dtype=dtype, device=device\n",
    "        )\n",
    "\n",
    "        for _ in range(steps):\n",
    "            v     = Av(q) - beta_prev * q_prev\n",
    "            # Ensure both vectors have the same dtype before dot product\n",
    "            q_conj = q.conj().to(dtype=v.dtype)\n",
    "            alpha = torch.dot(q_conj, v).real\n",
    "            v    -= alpha * q\n",
    "            beta  = v.norm()\n",
    "\n",
    "            alphas.append(alpha)\n",
    "            betas.append(beta)\n",
    "\n",
    "            if beta < 1e-12:            # converged early\n",
    "                break\n",
    "            q_prev, beta_prev = q, beta\n",
    "            q = v / beta\n",
    "\n",
    "        k = len(alphas)\n",
    "        T = torch.zeros(k, k, dtype=dtype, device=device)\n",
    "        for i in range(k):\n",
    "            T[i, i] = alphas[i]\n",
    "            if i < k - 1:\n",
    "                T[i, i + 1] = betas[i]      # ← correct β indexing\n",
    "                T[i + 1, i] = betas[i]\n",
    "\n",
    "        # ---------- Gauss–Lanczos quadrature ----------\n",
    "        evals, evecs = torch.linalg.eigh(T)\n",
    "        evals.clamp_min_(eps)               # avoid log(≤0)\n",
    "        w1   = evecs[0]\n",
    "        quad = (w1**2 * torch.log(evals)).sum() * (z.norm() ** 2)\n",
    "        logdet_acc += quad\n",
    "\n",
    "    # The SLQ method estimates log det(I + σ⁻² D T D)\n",
    "    # But we want log det(D T D σ⁻² + I) * σ²ⁿ\n",
    "    # Using the matrix determinant lemma: det(I + AB) = det(I + BA)\n",
    "    # So det(I + σ⁻² D T D) = det(I + σ⁻² T D²)\n",
    "    # And det(D T D σ⁻² + I) = det(I + D T D σ⁻²)\n",
    "    # Therefore, we need to add n*log(σ²) to get the full determinant\n",
    "    \n",
    "    logdet = (logdet_acc / probes).item() + n * math.log(sigma2)\n",
    "    \n",
    "    \n",
    "    return logdet\n",
    "\n",
    "\n",
    "sigma2 = sigmasq\n",
    "\n",
    "val = logdet_slq(ws, sigma2, toeplitz,\n",
    "                    probes=15, steps=25,\n",
    "                    dtype=dtype, device=device)\n",
    "\n"
   ]
  },
  {
   "cell_type": "code",
   "execution_count": null,
   "metadata": {},
   "outputs": [],
   "source": []
  },
  {
   "cell_type": "code",
   "execution_count": 53,
   "metadata": {},
   "outputs": [
    {
     "data": {
      "image/png": "[encoded data removed]",
      "text/plain": [
       "<Figure size 500x200 with 1 Axes>"
      ]
     },
     "metadata": {},
     "output_type": "display_data"
    },
    {
     "name": "stdout",
     "output_type": "stream",
     "text": [
      "Mean estimate: -7.981159\n",
      "Standard deviation: 4.359986\n"
     ]
    }
   ],
   "source": [
    "dets = []\n",
    "for test in range(10):\n",
    "    val = logdet_slq(ws, sigma2, toeplitz,\n",
    "                    probes=15, steps=25,\n",
    "                    dtype=dtype, device=device)\n",
    "    dets.append(val)\n",
    "\n",
    "# Create a boxplot of the determinant estimates\n",
    "import matplotlib.pyplot as plt\n",
    "import numpy as np\n",
    "\n",
    "# Calculate the mean and standard deviation of our estimates\n",
    "mean_det = np.mean(dets)\n",
    "std_det = np.std(dets)\n",
    "\n",
    "# Create a figure\n",
    "plt.figure(figsize=(5, 2))\n",
    "\n",
    "# Create boxplot\n",
    "plt.boxplot(dets, patch_artist=True, boxprops=dict(facecolor='lightblue'))\n",
    "\n",
    "# Add individual points for better visualization\n",
    "plt.scatter(np.ones(len(dets)), dets, color='blue', alpha=0.7)\n",
    "\n",
    "# Add a horizontal line for the mean\n",
    "plt.axhline(y=mean_det, color='red', linestyle='-', label=f'Mean: {mean_det:.4f}')\n",
    "\n",
    "# If we have a true determinant value, plot it\n",
    "# Uncomment and modify this if you have the true value\n",
    "# true_det = ...\n",
    "# plt.axhline(y=true_det, color='green', linestyle='--', label=f'True Value: {true_det:.4f}')\n",
    "\n",
    "plt.title('Log Determinant Estimates using SLQ')\n",
    "plt.ylabel('Log Determinant')\n",
    "plt.xticks([1], ['SLQ Estimates'])\n",
    "plt.legend()\n",
    "plt.grid(True, alpha=0.3)\n",
    "plt.show()\n",
    "\n",
    "print(f\"Mean estimate: {mean_det:.6f}\")\n",
    "print(f\"Standard deviation: {std_det:.6f}\")\n"
   ]
  }
 ],
 "metadata": {
  "kernelspec": {
   "display_name": "myenv",
   "language": "python",
   "name": "python3"
  },
  "language_info": {
   "codemirror_mode": {
    "name": "ipython",
    "version": 3
   },
   "file_extension": ".py",
   "mimetype": "text/x-python",
   "name": "python",
   "nbconvert_exporter": "python",
   "pygments_lexer": "ipython3",
   "version": "3.13.0"
  }
 },
 "nbformat": 4,
 "nbformat_minor": 2
}
